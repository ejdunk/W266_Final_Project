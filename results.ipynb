{
 "cells": [
  {
   "cell_type": "markdown",
   "metadata": {
    "id": "c1jdcigWI9mT"
   },
   "source": [
    "## Imports"
   ]
  },
  {
   "cell_type": "code",
   "execution_count": 1,
   "metadata": {
    "colab": {
     "base_uri": "https://localhost:8080/",
     "height": 173,
     "referenced_widgets": [
      "1da8e66aa54741bba384fc1d04b6b7f5",
      "2ec5946f3a3d4e888bd2d64f9e8ff6d9",
      "e711e10afdf24f40a14c893a2729824e",
      "43d88e1befd64a40a29291d98428e3fc",
      "a6924db6992242efa646a7f5872b4dbf",
      "a58aac306b62455eb454ccea6cfc9af5",
      "cc53278548b24a0083ab79667e15f6cf",
      "ae5b91f5118a4123af2e81b5d6bef166",
      "9aeeb0fe75784707b3b22f1020e396ae",
      "03f98ab4749b49c2b55a05841717e71a",
      "dbbaadd5c39e43838f126ab6c8c64795"
     ]
    },
    "id": "enYs8uY_KHgV",
    "outputId": "e2d63e80-28f5-47c5-a443-7768ea632fa2"
   },
   "outputs": [
    {
     "name": "stdout",
     "output_type": "stream",
     "text": [
      "  Building wheel for rouge-score (setup.py) ... \u001b[?25l\u001b[?25hdone\n",
      "\u001b[K     |████████████████████████████████| 72 kB 769 kB/s \n",
      "\u001b[K     |████████████████████████████████| 451 kB 9.2 MB/s \n",
      "\u001b[K     |████████████████████████████████| 132 kB 6.5 MB/s \n",
      "\u001b[K     |████████████████████████████████| 182 kB 72.2 MB/s \n",
      "\u001b[K     |████████████████████████████████| 212 kB 90.1 MB/s \n",
      "\u001b[K     |████████████████████████████████| 127 kB 65.0 MB/s \n",
      "\u001b[?25h"
     ]
    },
    {
     "data": {
      "application/vnd.jupyter.widget-view+json": {
       "model_id": "1da8e66aa54741bba384fc1d04b6b7f5",
       "version_major": 2,
       "version_minor": 0
      },
      "text/plain": [
       "Downloading builder script:   0%|          | 0.00/6.27k [00:00<?, ?B/s]"
      ]
     },
     "metadata": {},
     "output_type": "display_data"
    }
   ],
   "source": [
    "import pandas as pd\n",
    "import numpy as np\n",
    "from google.colab import drive\n",
    "\n",
    "!pip install -q rouge_score\n",
    "!pip install -q evaluate\n",
    "\n",
    "import evaluate\n",
    "import rouge_score\n",
    "rouge = evaluate.load('rouge')"
   ]
  },
  {
   "cell_type": "markdown",
   "metadata": {
    "id": "8U8T-xiHKRim"
   },
   "source": [
    "### Functions"
   ]
  },
  {
   "cell_type": "code",
   "execution_count": 12,
   "metadata": {
    "id": "SQGkd6Qaubq_"
   },
   "outputs": [],
   "source": [
    "def evaluate_baseline(results_df, name, type_abstract):\n",
    "  r1, r2, rl, rsum = [], [], [], []\n",
    "\n",
    "  references = np.array(results_df[type_abstract])\n",
    "  predictions = np.array(results_df['predictions'])\n",
    "  results = rouge.compute(predictions=predictions,\n",
    "                          references=references)\n",
    "  r1.append(results['rouge1'])\n",
    "  r2.append(results['rouge2'])\n",
    "  rl.append(results['rougeL'])\n",
    "  rsum.append(results['rougeLsum'])\n",
    "\n",
    "  metrics_df = pd.DataFrame({'model_name': [name], \n",
    "                            'num_beams': [7],\n",
    "                            'no_repeat_ngram_size': [2],\n",
    "                            'min_length': [325],\n",
    "                            'max_length': [900],\n",
    "                            'rouge_1': r1,\n",
    "                            'rouge_2': r2,\n",
    "                            'rouge_L': rl,\n",
    "                            'rouge_L_sum': rsum\n",
    "                            })\n",
    "  return metrics_df"
   ]
  },
  {
   "cell_type": "code",
   "execution_count": 3,
   "metadata": {
    "id": "1mJko3SiIWyN"
   },
   "outputs": [],
   "source": [
    "def evaluate_model_T5(results_df, type_abstract, batch_size, max_epochs, precision):\n",
    "  r1, r2, rl, rsum = [], [], [], []\n",
    "\n",
    "  references = np.array(results_df[type_abstract])\n",
    "  predictions = np.array(results_df['predictions'])\n",
    "  results = rouge.compute(predictions=predictions,\n",
    "                          references=references)\n",
    "  r1.append(results['rouge1'])\n",
    "  r2.append(results['rouge2'])\n",
    "  rl.append(results['rougeL'])\n",
    "  rsum.append(results['rougeLsum'])\n",
    "\n",
    "  metrics_df = pd.DataFrame({'model_name': [\"T5_Simple_Model\"], \n",
    "                            'source_max_token_len': [325],\n",
    "                            'target_max_token_len': [900],\n",
    "                            'batch_size': [batch_size],\n",
    "                            'max_epochs': [max_epochs],\n",
    "                            'precision': [precision],\n",
    "                            'rouge_1': r1,\n",
    "                            'rouge_2': r2,\n",
    "                            'rouge_L': rl,\n",
    "                            'rouge_L_sum': rsum\n",
    "                            })\n",
    "  return metrics_df"
   ]
  },
  {
   "cell_type": "code",
   "execution_count": 4,
   "metadata": {
    "id": "XXlosgkQrjGu"
   },
   "outputs": [],
   "source": [
    "# Create a column that merges the first few sentences and abstract \n",
    "# (as we are predicting the whole abstract not just the part after first sentence)\n",
    "def create_compo_colomn(df):\n",
    "  comp_abs = []\n",
    "  for index, row in df.iterrows():\n",
    "    first_sentence = row['first_sentence']\n",
    "    target_text = row['abstract']\n",
    "    comp = first_sentence[10:len(first_sentence)] + target_text\n",
    "    comp_abs.append(comp)\n",
    "\n",
    "  df['composite_abstract'] = comp_abs\n",
    "  return df"
   ]
  },
  {
   "cell_type": "markdown",
   "metadata": {
    "id": "4y3Le8uoKVkt"
   },
   "source": [
    "## Baseline Results"
   ]
  },
  {
   "cell_type": "code",
   "execution_count": 5,
   "metadata": {
    "colab": {
     "base_uri": "https://localhost:8080/"
    },
    "id": "Bqgux98JrTwn",
    "outputId": "28db8932-07fa-4398-d37c-c34945b648bf"
   },
   "outputs": [
    {
     "name": "stdout",
     "output_type": "stream",
     "text": [
      "Mounted at /content/gdrive\n"
     ]
    }
   ],
   "source": [
    "# Pull Data from Google Drive\n",
    "drive.mount('/content/gdrive')\n",
    "!cd /content/gdrive/MyDrive/w266_final_julia/results_data"
   ]
  },
  {
   "cell_type": "code",
   "execution_count": 6,
   "metadata": {
    "id": "iWGZgr3IXLHg"
   },
   "outputs": [],
   "source": [
    "# Construct baseline results dataframe \n",
    "baseline_results_df = pd.read_parquet('/content/gdrive/MyDrive/w266_final_julia/results_data/test_df.parquet.gzip')\n",
    "baseline_results = []\n",
    "num_batches = 40\n",
    "for i in range(num_batches):\n",
    "  path = f\"/content/gdrive/MyDrive/w266_final_julia/results_data/preds_{i}.parquet.gzip\"\n",
    "  df = pd.read_parquet(path)\n",
    "  preds = df['preds'].tolist()\n",
    "  baseline_results += preds\n",
    "baseline_results_df['predictions'] = baseline_results\n",
    "baseline_results_df = create_compo_colomn(baseline_results_df)"
   ]
  },
  {
   "cell_type": "code",
   "execution_count": 7,
   "metadata": {
    "colab": {
     "base_uri": "https://localhost:8080/",
     "height": 606
    },
    "id": "D-KxLVzB00O5",
    "outputId": "e187a1f5-2053-43ce-911d-acdcc18f9ca6"
   },
   "outputs": [
    {
     "data": {
      "text/html": [
       "\n",
       "  <div id=\"df-dfc97489-9009-462f-9f6a-e25dfe6e1940\">\n",
       "    <div class=\"colab-df-container\">\n",
       "      <div>\n",
       "<style scoped>\n",
       "    .dataframe tbody tr th:only-of-type {\n",
       "        vertical-align: middle;\n",
       "    }\n",
       "\n",
       "    .dataframe tbody tr th {\n",
       "        vertical-align: top;\n",
       "    }\n",
       "\n",
       "    .dataframe thead th {\n",
       "        text-align: right;\n",
       "    }\n",
       "</style>\n",
       "<table border=\"1\" class=\"dataframe\">\n",
       "  <thead>\n",
       "    <tr style=\"text-align: right;\">\n",
       "      <th></th>\n",
       "      <th>first_sentence</th>\n",
       "      <th>abstract</th>\n",
       "      <th>predictions</th>\n",
       "      <th>composite_abstract</th>\n",
       "    </tr>\n",
       "  </thead>\n",
       "  <tbody>\n",
       "    <tr>\n",
       "      <th>0</th>\n",
       "      <td>summarize: This award is to provide travel fel...</td>\n",
       "      <td>Theemphasis of the symposium is on the integra...</td>\n",
       "      <td>a symposium on avianendocrinology to be held i...</td>\n",
       "      <td>This award is to provide travel fellowships t...</td>\n",
       "    </tr>\n",
       "    <tr>\n",
       "      <th>1</th>\n",
       "      <td>summarize: In this project, the PI's team will...</td>\n",
       "      <td>These will then feed in to studies of the ocea...</td>\n",
       "      <td>in this project, the PI's team will study the ...</td>\n",
       "      <td>In this project, the PI's team will study the...</td>\n",
       "    </tr>\n",
       "    <tr>\n",
       "      <th>2</th>\n",
       "      <td>summarize: This project seeks to fully analyze...</td>\n",
       "      <td>The PI's previous work indicatesthat substanti...</td>\n",
       "      <td>this project seeks to fully analyze and interp...</td>\n",
       "      <td>This project seeks to fully analyze and inter...</td>\n",
       "    </tr>\n",
       "    <tr>\n",
       "      <th>3</th>\n",
       "      <td>summarize: The carbon-isotopic compositions of...</td>\n",
       "      <td>\"  In cold, high latitude waters, both suspend...</td>\n",
       "      <td>the carbon-isotopic compositions of long-chain...</td>\n",
       "      <td>The carbon-isotopic compositions of long-chai...</td>\n",
       "    </tr>\n",
       "    <tr>\n",
       "      <th>4</th>\n",
       "      <td>summarize: This workshop will bring together e...</td>\n",
       "      <td>The workshop will provide input to emerging HP...</td>\n",
       "      <td>this workshop will bring together experts from...</td>\n",
       "      <td>This workshop will bring together experts fro...</td>\n",
       "    </tr>\n",
       "    <tr>\n",
       "      <th>...</th>\n",
       "      <td>...</td>\n",
       "      <td>...</td>\n",
       "      <td>...</td>\n",
       "      <td>...</td>\n",
       "    </tr>\n",
       "    <tr>\n",
       "      <th>195</th>\n",
       "      <td>summarize: A fundamental problem in eucaryotic...</td>\n",
       "      <td>The functions of fivecharacterized regulatory ...</td>\n",
       "      <td>the long term goal of this project is to appro...</td>\n",
       "      <td>A fundamental problem in eucaryotic biology i...</td>\n",
       "    </tr>\n",
       "    <tr>\n",
       "      <th>196</th>\n",
       "      <td>summarize: This award is made in the Special P...</td>\n",
       "      <td>Vectorial energy and electron transferreaction...</td>\n",
       "      <td>this award is made in the Special Projects Off...</td>\n",
       "      <td>This award is made in the Special Projects Of...</td>\n",
       "    </tr>\n",
       "    <tr>\n",
       "      <th>197</th>\n",
       "      <td>summarize: This research is concerned with the...</td>\n",
       "      <td>The research supported concerns the representa...</td>\n",
       "      <td>this research is concerned with the representa...</td>\n",
       "      <td>This research is concerned with the represent...</td>\n",
       "    </tr>\n",
       "    <tr>\n",
       "      <th>198</th>\n",
       "      <td>summarize: The workshop investigates applicati...</td>\n",
       "      <td>The main objective is to bring together resear...</td>\n",
       "      <td>the workshop investigates application and rese...</td>\n",
       "      <td>The workshop investigates application and res...</td>\n",
       "    </tr>\n",
       "    <tr>\n",
       "      <th>199</th>\n",
       "      <td>summarize: The objective of this proposal is t...</td>\n",
       "      <td>sativa) will provide a devierseset of germplas...</td>\n",
       "      <td>the objective of this proposal is to clarify f...</td>\n",
       "      <td>The objective of this proposal is to clarify ...</td>\n",
       "    </tr>\n",
       "  </tbody>\n",
       "</table>\n",
       "<p>200 rows × 4 columns</p>\n",
       "</div>\n",
       "      <button class=\"colab-df-convert\" onclick=\"convertToInteractive('df-dfc97489-9009-462f-9f6a-e25dfe6e1940')\"\n",
       "              title=\"Convert this dataframe to an interactive table.\"\n",
       "              style=\"display:none;\">\n",
       "        \n",
       "  <svg xmlns=\"http://www.w3.org/2000/svg\" height=\"24px\"viewBox=\"0 0 24 24\"\n",
       "       width=\"24px\">\n",
       "    <path d=\"M0 0h24v24H0V0z\" fill=\"none\"/>\n",
       "    <path d=\"M18.56 5.44l.94 2.06.94-2.06 2.06-.94-2.06-.94-.94-2.06-.94 2.06-2.06.94zm-11 1L8.5 8.5l.94-2.06 2.06-.94-2.06-.94L8.5 2.5l-.94 2.06-2.06.94zm10 10l.94 2.06.94-2.06 2.06-.94-2.06-.94-.94-2.06-.94 2.06-2.06.94z\"/><path d=\"M17.41 7.96l-1.37-1.37c-.4-.4-.92-.59-1.43-.59-.52 0-1.04.2-1.43.59L10.3 9.45l-7.72 7.72c-.78.78-.78 2.05 0 2.83L4 21.41c.39.39.9.59 1.41.59.51 0 1.02-.2 1.41-.59l7.78-7.78 2.81-2.81c.8-.78.8-2.07 0-2.86zM5.41 20L4 18.59l7.72-7.72 1.47 1.35L5.41 20z\"/>\n",
       "  </svg>\n",
       "      </button>\n",
       "      \n",
       "  <style>\n",
       "    .colab-df-container {\n",
       "      display:flex;\n",
       "      flex-wrap:wrap;\n",
       "      gap: 12px;\n",
       "    }\n",
       "\n",
       "    .colab-df-convert {\n",
       "      background-color: #E8F0FE;\n",
       "      border: none;\n",
       "      border-radius: 50%;\n",
       "      cursor: pointer;\n",
       "      display: none;\n",
       "      fill: #1967D2;\n",
       "      height: 32px;\n",
       "      padding: 0 0 0 0;\n",
       "      width: 32px;\n",
       "    }\n",
       "\n",
       "    .colab-df-convert:hover {\n",
       "      background-color: #E2EBFA;\n",
       "      box-shadow: 0px 1px 2px rgba(60, 64, 67, 0.3), 0px 1px 3px 1px rgba(60, 64, 67, 0.15);\n",
       "      fill: #174EA6;\n",
       "    }\n",
       "\n",
       "    [theme=dark] .colab-df-convert {\n",
       "      background-color: #3B4455;\n",
       "      fill: #D2E3FC;\n",
       "    }\n",
       "\n",
       "    [theme=dark] .colab-df-convert:hover {\n",
       "      background-color: #434B5C;\n",
       "      box-shadow: 0px 1px 3px 1px rgba(0, 0, 0, 0.15);\n",
       "      filter: drop-shadow(0px 1px 2px rgba(0, 0, 0, 0.3));\n",
       "      fill: #FFFFFF;\n",
       "    }\n",
       "  </style>\n",
       "\n",
       "      <script>\n",
       "        const buttonEl =\n",
       "          document.querySelector('#df-dfc97489-9009-462f-9f6a-e25dfe6e1940 button.colab-df-convert');\n",
       "        buttonEl.style.display =\n",
       "          google.colab.kernel.accessAllowed ? 'block' : 'none';\n",
       "\n",
       "        async function convertToInteractive(key) {\n",
       "          const element = document.querySelector('#df-dfc97489-9009-462f-9f6a-e25dfe6e1940');\n",
       "          const dataTable =\n",
       "            await google.colab.kernel.invokeFunction('convertToInteractive',\n",
       "                                                     [key], {});\n",
       "          if (!dataTable) return;\n",
       "\n",
       "          const docLinkHtml = 'Like what you see? Visit the ' +\n",
       "            '<a target=\"_blank\" href=https://colab.research.google.com/notebooks/data_table.ipynb>data table notebook</a>'\n",
       "            + ' to learn more about interactive tables.';\n",
       "          element.innerHTML = '';\n",
       "          dataTable['output_type'] = 'display_data';\n",
       "          await google.colab.output.renderOutput(dataTable, element);\n",
       "          const docLink = document.createElement('div');\n",
       "          docLink.innerHTML = docLinkHtml;\n",
       "          element.appendChild(docLink);\n",
       "        }\n",
       "      </script>\n",
       "    </div>\n",
       "  </div>\n",
       "  "
      ],
      "text/plain": [
       "                                        first_sentence  \\\n",
       "0    summarize: This award is to provide travel fel...   \n",
       "1    summarize: In this project, the PI's team will...   \n",
       "2    summarize: This project seeks to fully analyze...   \n",
       "3    summarize: The carbon-isotopic compositions of...   \n",
       "4    summarize: This workshop will bring together e...   \n",
       "..                                                 ...   \n",
       "195  summarize: A fundamental problem in eucaryotic...   \n",
       "196  summarize: This award is made in the Special P...   \n",
       "197  summarize: This research is concerned with the...   \n",
       "198  summarize: The workshop investigates applicati...   \n",
       "199  summarize: The objective of this proposal is t...   \n",
       "\n",
       "                                              abstract  \\\n",
       "0    Theemphasis of the symposium is on the integra...   \n",
       "1    These will then feed in to studies of the ocea...   \n",
       "2    The PI's previous work indicatesthat substanti...   \n",
       "3    \"  In cold, high latitude waters, both suspend...   \n",
       "4    The workshop will provide input to emerging HP...   \n",
       "..                                                 ...   \n",
       "195  The functions of fivecharacterized regulatory ...   \n",
       "196  Vectorial energy and electron transferreaction...   \n",
       "197  The research supported concerns the representa...   \n",
       "198  The main objective is to bring together resear...   \n",
       "199  sativa) will provide a devierseset of germplas...   \n",
       "\n",
       "                                           predictions  \\\n",
       "0    a symposium on avianendocrinology to be held i...   \n",
       "1    in this project, the PI's team will study the ...   \n",
       "2    this project seeks to fully analyze and interp...   \n",
       "3    the carbon-isotopic compositions of long-chain...   \n",
       "4    this workshop will bring together experts from...   \n",
       "..                                                 ...   \n",
       "195  the long term goal of this project is to appro...   \n",
       "196  this award is made in the Special Projects Off...   \n",
       "197  this research is concerned with the representa...   \n",
       "198  the workshop investigates application and rese...   \n",
       "199  the objective of this proposal is to clarify f...   \n",
       "\n",
       "                                    composite_abstract  \n",
       "0     This award is to provide travel fellowships t...  \n",
       "1     In this project, the PI's team will study the...  \n",
       "2     This project seeks to fully analyze and inter...  \n",
       "3     The carbon-isotopic compositions of long-chai...  \n",
       "4     This workshop will bring together experts fro...  \n",
       "..                                                 ...  \n",
       "195   A fundamental problem in eucaryotic biology i...  \n",
       "196   This award is made in the Special Projects Of...  \n",
       "197   This research is concerned with the represent...  \n",
       "198   The workshop investigates application and res...  \n",
       "199   The objective of this proposal is to clarify ...  \n",
       "\n",
       "[200 rows x 4 columns]"
      ]
     },
     "execution_count": 7,
     "metadata": {},
     "output_type": "execute_result"
    }
   ],
   "source": [
    "baseline_results_df"
   ]
  },
  {
   "cell_type": "markdown",
   "metadata": {
    "id": "3WmP9ml6UlUS"
   },
   "source": [
    "### Example"
   ]
  },
  {
   "cell_type": "code",
   "execution_count": 15,
   "metadata": {
    "colab": {
     "base_uri": "https://localhost:8080/",
     "height": 71
    },
    "id": "dEpUuJuAUmyZ",
    "outputId": "713b3d88-ae1d-4208-ceca-71b0588e4c56"
   },
   "outputs": [
    {
     "data": {
      "application/vnd.google.colaboratory.intrinsic+json": {
       "type": "string"
      },
      "text/plain": [
       "\"summarize: In this project, the PI's team will study the circulation of theNorth Pacific, from the sea surface to the bottom, and relate itto results from an earlier study of the South PacificTheseresults will be compared with circulation patterns determined bythe PI in the South and North Atlantic, using similar techniques\""
      ]
     },
     "execution_count": 15,
     "metadata": {},
     "output_type": "execute_result"
    }
   ],
   "source": [
    "index = 1\n",
    "# Promt\n",
    "baseline_results_df['first_sentence'][index]"
   ]
  },
  {
   "cell_type": "code",
   "execution_count": 16,
   "metadata": {
    "colab": {
     "base_uri": "https://localhost:8080/",
     "height": 124
    },
    "id": "wPOl_ZCxUp4-",
    "outputId": "c1181ab5-7215-42e7-c5ef-85ddef172c85"
   },
   "outputs": [
    {
     "data": {
      "application/vnd.google.colaboratory.intrinsic+json": {
       "type": "string"
      },
      "text/plain": [
       "\"in this project, the PI's team will study the circulation of theNorth Pacific, from the sea surface to the bottom . results will be compared with results from an earlier study ofthe South and North Atlantic, using similar techniques. the project is expected to be completed by the end of january, with a final report expected in mid-october, but not before november, according to cnn.com/pi-projects/aspx/sci/2005// s- gragra \\xad\\xadn\\xadr\\xads\\xad e\\xadl\\xadw\\xad-\\xadly\\xad_\\xadre\\xad[\\xadh\\xadi\\xad\\xad/\\xad*\\xad–\\xad...\\xad—\\xad---\\xad de\\xad&\\xad,\\xad»-__[_*-[ _ ,--]\\xado\\xadp\\xadc\\xad] -»\\xad?\\xad.\\xade-/__-*_n_d\\xady\\xadt\\xad(\\xadm\\xad’\\xadd_“\\xad”\\xad«\\xad“[[*»[--(_([t_]_=\\xadâ\\xad%\\xadv_s_&_––-=-–=–_/-—–——-’-'-,==_—= ''—_'_,_results [._e_f_a_o_u_p_en_________y_i_and_in_the_.\""
      ]
     },
     "execution_count": 16,
     "metadata": {},
     "output_type": "execute_result"
    }
   ],
   "source": [
    "baseline_results_df['predictions'][index]"
   ]
  },
  {
   "cell_type": "code",
   "execution_count": 18,
   "metadata": {
    "colab": {
     "base_uri": "https://localhost:8080/",
     "height": 71
    },
    "id": "5TOpEYmfU0-V",
    "outputId": "9b3ce9dd-8090-4271-a214-a77398b3684c"
   },
   "outputs": [
    {
     "data": {
      "application/vnd.google.colaboratory.intrinsic+json": {
       "type": "string"
      },
      "text/plain": [
       "\" In this project, the PI's team will study the circulation of theNorth Pacific, from the sea surface to the bottom, and relate itto results from an earlier study of the South PacificTheseresults will be compared with circulation patterns determined bythe PI in the South and North Atlantic, using similar techniquesThese will then feed in to studies of the ocean/ocean relationsand determination of inter-basin exchange processes\""
      ]
     },
     "execution_count": 18,
     "metadata": {},
     "output_type": "execute_result"
    }
   ],
   "source": [
    "baseline_results_df['composite_abstract'][index]"
   ]
  },
  {
   "cell_type": "markdown",
   "metadata": {
    "id": "TnUtKrSKU6Qj"
   },
   "source": [
    "### Results"
   ]
  },
  {
   "cell_type": "code",
   "execution_count": 14,
   "metadata": {
    "colab": {
     "base_uri": "https://localhost:8080/",
     "height": 112
    },
    "id": "7DzmHDmH7MIO",
    "outputId": "7f90bac8-ad77-402d-ff84-cdbb140a067b"
   },
   "outputs": [
    {
     "data": {
      "text/html": [
       "\n",
       "  <div id=\"df-b2955e65-5510-46b6-82cd-a9df77cfc8f9\">\n",
       "    <div class=\"colab-df-container\">\n",
       "      <div>\n",
       "<style scoped>\n",
       "    .dataframe tbody tr th:only-of-type {\n",
       "        vertical-align: middle;\n",
       "    }\n",
       "\n",
       "    .dataframe tbody tr th {\n",
       "        vertical-align: top;\n",
       "    }\n",
       "\n",
       "    .dataframe thead th {\n",
       "        text-align: right;\n",
       "    }\n",
       "</style>\n",
       "<table border=\"1\" class=\"dataframe\">\n",
       "  <thead>\n",
       "    <tr style=\"text-align: right;\">\n",
       "      <th></th>\n",
       "      <th>model_name</th>\n",
       "      <th>num_beams</th>\n",
       "      <th>no_repeat_ngram_size</th>\n",
       "      <th>min_length</th>\n",
       "      <th>max_length</th>\n",
       "      <th>rouge_1</th>\n",
       "      <th>rouge_2</th>\n",
       "      <th>rouge_L</th>\n",
       "      <th>rouge_L_sum</th>\n",
       "    </tr>\n",
       "  </thead>\n",
       "  <tbody>\n",
       "    <tr>\n",
       "      <th>0</th>\n",
       "      <td>baseline_abstract</td>\n",
       "      <td>7</td>\n",
       "      <td>2</td>\n",
       "      <td>325</td>\n",
       "      <td>900</td>\n",
       "      <td>0.186895</td>\n",
       "      <td>0.028193</td>\n",
       "      <td>0.111203</td>\n",
       "      <td>0.110839</td>\n",
       "    </tr>\n",
       "    <tr>\n",
       "      <th>1</th>\n",
       "      <td>baseline_composite_abstract</td>\n",
       "      <td>7</td>\n",
       "      <td>2</td>\n",
       "      <td>325</td>\n",
       "      <td>900</td>\n",
       "      <td>0.340630</td>\n",
       "      <td>0.223717</td>\n",
       "      <td>0.284259</td>\n",
       "      <td>0.284261</td>\n",
       "    </tr>\n",
       "  </tbody>\n",
       "</table>\n",
       "</div>\n",
       "      <button class=\"colab-df-convert\" onclick=\"convertToInteractive('df-b2955e65-5510-46b6-82cd-a9df77cfc8f9')\"\n",
       "              title=\"Convert this dataframe to an interactive table.\"\n",
       "              style=\"display:none;\">\n",
       "        \n",
       "  <svg xmlns=\"http://www.w3.org/2000/svg\" height=\"24px\"viewBox=\"0 0 24 24\"\n",
       "       width=\"24px\">\n",
       "    <path d=\"M0 0h24v24H0V0z\" fill=\"none\"/>\n",
       "    <path d=\"M18.56 5.44l.94 2.06.94-2.06 2.06-.94-2.06-.94-.94-2.06-.94 2.06-2.06.94zm-11 1L8.5 8.5l.94-2.06 2.06-.94-2.06-.94L8.5 2.5l-.94 2.06-2.06.94zm10 10l.94 2.06.94-2.06 2.06-.94-2.06-.94-.94-2.06-.94 2.06-2.06.94z\"/><path d=\"M17.41 7.96l-1.37-1.37c-.4-.4-.92-.59-1.43-.59-.52 0-1.04.2-1.43.59L10.3 9.45l-7.72 7.72c-.78.78-.78 2.05 0 2.83L4 21.41c.39.39.9.59 1.41.59.51 0 1.02-.2 1.41-.59l7.78-7.78 2.81-2.81c.8-.78.8-2.07 0-2.86zM5.41 20L4 18.59l7.72-7.72 1.47 1.35L5.41 20z\"/>\n",
       "  </svg>\n",
       "      </button>\n",
       "      \n",
       "  <style>\n",
       "    .colab-df-container {\n",
       "      display:flex;\n",
       "      flex-wrap:wrap;\n",
       "      gap: 12px;\n",
       "    }\n",
       "\n",
       "    .colab-df-convert {\n",
       "      background-color: #E8F0FE;\n",
       "      border: none;\n",
       "      border-radius: 50%;\n",
       "      cursor: pointer;\n",
       "      display: none;\n",
       "      fill: #1967D2;\n",
       "      height: 32px;\n",
       "      padding: 0 0 0 0;\n",
       "      width: 32px;\n",
       "    }\n",
       "\n",
       "    .colab-df-convert:hover {\n",
       "      background-color: #E2EBFA;\n",
       "      box-shadow: 0px 1px 2px rgba(60, 64, 67, 0.3), 0px 1px 3px 1px rgba(60, 64, 67, 0.15);\n",
       "      fill: #174EA6;\n",
       "    }\n",
       "\n",
       "    [theme=dark] .colab-df-convert {\n",
       "      background-color: #3B4455;\n",
       "      fill: #D2E3FC;\n",
       "    }\n",
       "\n",
       "    [theme=dark] .colab-df-convert:hover {\n",
       "      background-color: #434B5C;\n",
       "      box-shadow: 0px 1px 3px 1px rgba(0, 0, 0, 0.15);\n",
       "      filter: drop-shadow(0px 1px 2px rgba(0, 0, 0, 0.3));\n",
       "      fill: #FFFFFF;\n",
       "    }\n",
       "  </style>\n",
       "\n",
       "      <script>\n",
       "        const buttonEl =\n",
       "          document.querySelector('#df-b2955e65-5510-46b6-82cd-a9df77cfc8f9 button.colab-df-convert');\n",
       "        buttonEl.style.display =\n",
       "          google.colab.kernel.accessAllowed ? 'block' : 'none';\n",
       "\n",
       "        async function convertToInteractive(key) {\n",
       "          const element = document.querySelector('#df-b2955e65-5510-46b6-82cd-a9df77cfc8f9');\n",
       "          const dataTable =\n",
       "            await google.colab.kernel.invokeFunction('convertToInteractive',\n",
       "                                                     [key], {});\n",
       "          if (!dataTable) return;\n",
       "\n",
       "          const docLinkHtml = 'Like what you see? Visit the ' +\n",
       "            '<a target=\"_blank\" href=https://colab.research.google.com/notebooks/data_table.ipynb>data table notebook</a>'\n",
       "            + ' to learn more about interactive tables.';\n",
       "          element.innerHTML = '';\n",
       "          dataTable['output_type'] = 'display_data';\n",
       "          await google.colab.output.renderOutput(dataTable, element);\n",
       "          const docLink = document.createElement('div');\n",
       "          docLink.innerHTML = docLinkHtml;\n",
       "          element.appendChild(docLink);\n",
       "        }\n",
       "      </script>\n",
       "    </div>\n",
       "  </div>\n",
       "  "
      ],
      "text/plain": [
       "                    model_name  num_beams  no_repeat_ngram_size  min_length  \\\n",
       "0            baseline_abstract          7                     2         325   \n",
       "1  baseline_composite_abstract          7                     2         325   \n",
       "\n",
       "   max_length   rouge_1   rouge_2   rouge_L  rouge_L_sum  \n",
       "0         900  0.186895  0.028193  0.111203     0.110839  \n",
       "1         900  0.340630  0.223717  0.284259     0.284261  "
      ]
     },
     "execution_count": 14,
     "metadata": {},
     "output_type": "execute_result"
    }
   ],
   "source": [
    "baseline_composite = evaluate_baseline(baseline_results_df, \"baseline_composite_abstract\", \"composite_abstract\")\n",
    "baseline_just_abs = evaluate_baseline(baseline_results_df, \"baseline_abstract\", \"abstract\")\n",
    "results_baseline = pd.concat([baseline_just_abs, baseline_composite]).reset_index().drop('index', axis=1)\n",
    "results_baseline"
   ]
  },
  {
   "cell_type": "markdown",
   "metadata": {
    "id": "rt0-3iUdJJjh"
   },
   "source": [
    "# Simple T5 Results"
   ]
  },
  {
   "cell_type": "code",
   "execution_count": null,
   "metadata": {
    "colab": {
     "base_uri": "https://localhost:8080/"
    },
    "id": "tdWThmm1qLSB",
    "outputId": "13a69cae-7bfb-4f01-a88c-97e0825df703"
   },
   "outputs": [
    {
     "name": "stdout",
     "output_type": "stream",
     "text": [
      "Drive already mounted at /content/gdrive; to attempt to forcibly remount, call drive.mount(\"/content/gdrive\", force_remount=True).\n"
     ]
    }
   ],
   "source": [
    "# Pull Data from Google Drive\n",
    "drive.mount('/content/gdrive')\n",
    "!cd /content/gdrive/MyDrive/w266_final_julia/T5_Shuffled_Models/"
   ]
  },
  {
   "cell_type": "code",
   "execution_count": null,
   "metadata": {
    "colab": {
     "base_uri": "https://localhost:8080/",
     "height": 424
    },
    "id": "z6W96oMKqYEF",
    "outputId": "fd67864f-2495-42d7-84ec-47877adb4c8b"
   },
   "outputs": [
    {
     "data": {
      "text/html": [
       "\n",
       "  <div id=\"df-25300298-ad29-4bd7-9b2e-61019434909b\">\n",
       "    <div class=\"colab-df-container\">\n",
       "      <div>\n",
       "<style scoped>\n",
       "    .dataframe tbody tr th:only-of-type {\n",
       "        vertical-align: middle;\n",
       "    }\n",
       "\n",
       "    .dataframe tbody tr th {\n",
       "        vertical-align: top;\n",
       "    }\n",
       "\n",
       "    .dataframe thead th {\n",
       "        text-align: right;\n",
       "    }\n",
       "</style>\n",
       "<table border=\"1\" class=\"dataframe\">\n",
       "  <thead>\n",
       "    <tr style=\"text-align: right;\">\n",
       "      <th></th>\n",
       "      <th>first_sentence</th>\n",
       "      <th>abstract</th>\n",
       "      <th>composite_abstract</th>\n",
       "    </tr>\n",
       "  </thead>\n",
       "  <tbody>\n",
       "    <tr>\n",
       "      <th>0</th>\n",
       "      <td>summarize: Intellectual merit: As an explanati...</td>\n",
       "      <td>Soil fungal pathogens are likely causal factor...</td>\n",
       "      <td>Intellectual merit: As an explanation for the...</td>\n",
       "    </tr>\n",
       "    <tr>\n",
       "      <th>1</th>\n",
       "      <td>summarize: This grant provides funding for bui...</td>\n",
       "      <td>Moreover, these algorithms and thenecessary in...</td>\n",
       "      <td>This grant provides funding for building high...</td>\n",
       "    </tr>\n",
       "    <tr>\n",
       "      <th>2</th>\n",
       "      <td>summarize: ABSTRACTSThis project is designed t...</td>\n",
       "      <td>Threeseries of studies are presented: Series I...</td>\n",
       "      <td>ABSTRACTSThis project is designed to answer i...</td>\n",
       "    </tr>\n",
       "    <tr>\n",
       "      <th>3</th>\n",
       "      <td>summarize: This project provides the Computer ...</td>\n",
       "      <td>The  cornerstone of this set of laboratory cou...</td>\n",
       "      <td>This project provides the Computer Science De...</td>\n",
       "    </tr>\n",
       "    <tr>\n",
       "      <th>4</th>\n",
       "      <td>summarize: CTS-9501842   Joseph McGuire  Orego...</td>\n",
       "      <td>Simple kinetic models previously used to analy...</td>\n",
       "      <td>CTS-9501842   Joseph McGuire  Oregon State Un...</td>\n",
       "    </tr>\n",
       "    <tr>\n",
       "      <th>...</th>\n",
       "      <td>...</td>\n",
       "      <td>...</td>\n",
       "      <td>...</td>\n",
       "    </tr>\n",
       "    <tr>\n",
       "      <th>195</th>\n",
       "      <td>summarize: The proposed research focuses on co...</td>\n",
       "      <td>, and develop a new collaboration with  Lucent...</td>\n",
       "      <td>The proposed research focuses on computationa...</td>\n",
       "    </tr>\n",
       "    <tr>\n",
       "      <th>196</th>\n",
       "      <td>summarize: In this project in the Experimental...</td>\n",
       "      <td>Sando of the University   ofIowa will continue...</td>\n",
       "      <td>In this project in the Experimental Physical ...</td>\n",
       "    </tr>\n",
       "    <tr>\n",
       "      <th>197</th>\n",
       "      <td>summarize: This award supports the development...</td>\n",
       "      <td>g women's colleges, historically blackcolleges...</td>\n",
       "      <td>This award supports the development and imple...</td>\n",
       "    </tr>\n",
       "    <tr>\n",
       "      <th>198</th>\n",
       "      <td>summarize: McKeown  9311618    This doctoral d...</td>\n",
       "      <td>The first partof the study examines the develo...</td>\n",
       "      <td>McKeown  9311618    This doctoral dissertatio...</td>\n",
       "    </tr>\n",
       "    <tr>\n",
       "      <th>199</th>\n",
       "      <td>summarize: Texture and Transverse profile meas...</td>\n",
       "      <td>Currently, highway agenciescan not measure the...</td>\n",
       "      <td>Texture and Transverse profile measurements o...</td>\n",
       "    </tr>\n",
       "  </tbody>\n",
       "</table>\n",
       "<p>200 rows × 3 columns</p>\n",
       "</div>\n",
       "      <button class=\"colab-df-convert\" onclick=\"convertToInteractive('df-25300298-ad29-4bd7-9b2e-61019434909b')\"\n",
       "              title=\"Convert this dataframe to an interactive table.\"\n",
       "              style=\"display:none;\">\n",
       "        \n",
       "  <svg xmlns=\"http://www.w3.org/2000/svg\" height=\"24px\"viewBox=\"0 0 24 24\"\n",
       "       width=\"24px\">\n",
       "    <path d=\"M0 0h24v24H0V0z\" fill=\"none\"/>\n",
       "    <path d=\"M18.56 5.44l.94 2.06.94-2.06 2.06-.94-2.06-.94-.94-2.06-.94 2.06-2.06.94zm-11 1L8.5 8.5l.94-2.06 2.06-.94-2.06-.94L8.5 2.5l-.94 2.06-2.06.94zm10 10l.94 2.06.94-2.06 2.06-.94-2.06-.94-.94-2.06-.94 2.06-2.06.94z\"/><path d=\"M17.41 7.96l-1.37-1.37c-.4-.4-.92-.59-1.43-.59-.52 0-1.04.2-1.43.59L10.3 9.45l-7.72 7.72c-.78.78-.78 2.05 0 2.83L4 21.41c.39.39.9.59 1.41.59.51 0 1.02-.2 1.41-.59l7.78-7.78 2.81-2.81c.8-.78.8-2.07 0-2.86zM5.41 20L4 18.59l7.72-7.72 1.47 1.35L5.41 20z\"/>\n",
       "  </svg>\n",
       "      </button>\n",
       "      \n",
       "  <style>\n",
       "    .colab-df-container {\n",
       "      display:flex;\n",
       "      flex-wrap:wrap;\n",
       "      gap: 12px;\n",
       "    }\n",
       "\n",
       "    .colab-df-convert {\n",
       "      background-color: #E8F0FE;\n",
       "      border: none;\n",
       "      border-radius: 50%;\n",
       "      cursor: pointer;\n",
       "      display: none;\n",
       "      fill: #1967D2;\n",
       "      height: 32px;\n",
       "      padding: 0 0 0 0;\n",
       "      width: 32px;\n",
       "    }\n",
       "\n",
       "    .colab-df-convert:hover {\n",
       "      background-color: #E2EBFA;\n",
       "      box-shadow: 0px 1px 2px rgba(60, 64, 67, 0.3), 0px 1px 3px 1px rgba(60, 64, 67, 0.15);\n",
       "      fill: #174EA6;\n",
       "    }\n",
       "\n",
       "    [theme=dark] .colab-df-convert {\n",
       "      background-color: #3B4455;\n",
       "      fill: #D2E3FC;\n",
       "    }\n",
       "\n",
       "    [theme=dark] .colab-df-convert:hover {\n",
       "      background-color: #434B5C;\n",
       "      box-shadow: 0px 1px 3px 1px rgba(0, 0, 0, 0.15);\n",
       "      filter: drop-shadow(0px 1px 2px rgba(0, 0, 0, 0.3));\n",
       "      fill: #FFFFFF;\n",
       "    }\n",
       "  </style>\n",
       "\n",
       "      <script>\n",
       "        const buttonEl =\n",
       "          document.querySelector('#df-25300298-ad29-4bd7-9b2e-61019434909b button.colab-df-convert');\n",
       "        buttonEl.style.display =\n",
       "          google.colab.kernel.accessAllowed ? 'block' : 'none';\n",
       "\n",
       "        async function convertToInteractive(key) {\n",
       "          const element = document.querySelector('#df-25300298-ad29-4bd7-9b2e-61019434909b');\n",
       "          const dataTable =\n",
       "            await google.colab.kernel.invokeFunction('convertToInteractive',\n",
       "                                                     [key], {});\n",
       "          if (!dataTable) return;\n",
       "\n",
       "          const docLinkHtml = 'Like what you see? Visit the ' +\n",
       "            '<a target=\"_blank\" href=https://colab.research.google.com/notebooks/data_table.ipynb>data table notebook</a>'\n",
       "            + ' to learn more about interactive tables.';\n",
       "          element.innerHTML = '';\n",
       "          dataTable['output_type'] = 'display_data';\n",
       "          await google.colab.output.renderOutput(dataTable, element);\n",
       "          const docLink = document.createElement('div');\n",
       "          docLink.innerHTML = docLinkHtml;\n",
       "          element.appendChild(docLink);\n",
       "        }\n",
       "      </script>\n",
       "    </div>\n",
       "  </div>\n",
       "  "
      ],
      "text/plain": [
       "                                        first_sentence  \\\n",
       "0    summarize: Intellectual merit: As an explanati...   \n",
       "1    summarize: This grant provides funding for bui...   \n",
       "2    summarize: ABSTRACTSThis project is designed t...   \n",
       "3    summarize: This project provides the Computer ...   \n",
       "4    summarize: CTS-9501842   Joseph McGuire  Orego...   \n",
       "..                                                 ...   \n",
       "195  summarize: The proposed research focuses on co...   \n",
       "196  summarize: In this project in the Experimental...   \n",
       "197  summarize: This award supports the development...   \n",
       "198  summarize: McKeown  9311618    This doctoral d...   \n",
       "199  summarize: Texture and Transverse profile meas...   \n",
       "\n",
       "                                              abstract  \\\n",
       "0    Soil fungal pathogens are likely causal factor...   \n",
       "1    Moreover, these algorithms and thenecessary in...   \n",
       "2    Threeseries of studies are presented: Series I...   \n",
       "3    The  cornerstone of this set of laboratory cou...   \n",
       "4    Simple kinetic models previously used to analy...   \n",
       "..                                                 ...   \n",
       "195  , and develop a new collaboration with  Lucent...   \n",
       "196  Sando of the University   ofIowa will continue...   \n",
       "197  g women's colleges, historically blackcolleges...   \n",
       "198  The first partof the study examines the develo...   \n",
       "199  Currently, highway agenciescan not measure the...   \n",
       "\n",
       "                                    composite_abstract  \n",
       "0     Intellectual merit: As an explanation for the...  \n",
       "1     This grant provides funding for building high...  \n",
       "2     ABSTRACTSThis project is designed to answer i...  \n",
       "3     This project provides the Computer Science De...  \n",
       "4     CTS-9501842   Joseph McGuire  Oregon State Un...  \n",
       "..                                                 ...  \n",
       "195   The proposed research focuses on computationa...  \n",
       "196   In this project in the Experimental Physical ...  \n",
       "197   This award supports the development and imple...  \n",
       "198   McKeown  9311618    This doctoral dissertatio...  \n",
       "199   Texture and Transverse profile measurements o...  \n",
       "\n",
       "[200 rows x 3 columns]"
      ]
     },
     "execution_count": 36,
     "metadata": {},
     "output_type": "execute_result"
    }
   ],
   "source": [
    "# Construct baseline results dataframe \n",
    "T5_results_df = pd.read_parquet('/content/gdrive/MyDrive/w266_final_julia/T5_Shuffled_Models/test_df.parquet.gzip')\n",
    "T5_results_df = T5_results_df.rename(columns={\"source_text\": \"first_sentence\", \"target_text\": \"abstract\"})\n",
    "T5_results_df = create_compo_colomn(T5_results_df)\n",
    "T5_results_df"
   ]
  },
  {
   "cell_type": "code",
   "execution_count": null,
   "metadata": {
    "id": "b9WFtBtFsD30"
   },
   "outputs": [],
   "source": [
    "# Predictions \n",
    "model_num = 7\n",
    "def get_t5_results(model_number):\n",
    "  path = f\"/content/gdrive/MyDrive/w266_final_julia/T5_Shuffled_Models/preds_simple_t5_{model_number}.parquet.gzip\"\n",
    "  preds = pd.read_parquet(path)\n",
    "  return preds\n",
    "\n",
    "def format_T5_preds(pred_df):\n",
    "  preds_to_return = []\n",
    "  for pred in pred_df['preds']:\n",
    "    preds_to_return.append(pred[0])\n",
    "  return preds_to_return\n",
    "\n",
    "predictions = get_t5_results(model_num)\n",
    "predictions = format_T5_preds(predictions)\n",
    "T5_results_df['predictions'] = predictions"
   ]
  },
  {
   "cell_type": "markdown",
   "metadata": {
    "id": "qaG9o1DrGaBd"
   },
   "source": [
    "### Sample"
   ]
  },
  {
   "cell_type": "code",
   "execution_count": null,
   "metadata": {
    "colab": {
     "base_uri": "https://localhost:8080/",
     "height": 71
    },
    "id": "gPG5rxQGE10I",
    "outputId": "e0471d04-f87d-46b4-a9a1-2297efc228c5"
   },
   "outputs": [
    {
     "data": {
      "application/vnd.google.colaboratory.intrinsic+json": {
       "type": "string"
      },
      "text/plain": [
       "'summarize: This grant provides funding for building highly scalable distributed algorithmsfor a new class of adaptive manufacturing enterprises using distributed agentarchitecture over the InternetThese algorithms will be used for reconfiguringwork-in-process inventory levels and production schedules to adapt to changingmarket demands and supply-chain conditions'"
      ]
     },
     "execution_count": 45,
     "metadata": {},
     "output_type": "execute_result"
    }
   ],
   "source": [
    "index = 1\n",
    "# Promt\n",
    "T5_results_df['first_sentence'][index]"
   ]
  },
  {
   "cell_type": "code",
   "execution_count": null,
   "metadata": {
    "colab": {
     "base_uri": "https://localhost:8080/",
     "height": 53
    },
    "id": "fIQKeOzcE4hZ",
    "outputId": "86a4468d-5165-4217-a456-09050f0d4040"
   },
   "outputs": [
    {
     "data": {
      "application/vnd.google.colaboratory.intrinsic+json": {
       "type": "string"
      },
      "text/plain": [
       "'The algorithms will be used to reconfigure inventory levels and production schedules to adapt to changing supply-chain conditions This project will provide funding for the development of a new class of adaptive manufacturing enterprises using distributed agentarchitecture over the Internet'"
      ]
     },
     "execution_count": 46,
     "metadata": {},
     "output_type": "execute_result"
    }
   ],
   "source": [
    "# Prediction\n",
    "T5_results_df['predictions'][index]"
   ]
  },
  {
   "cell_type": "code",
   "execution_count": null,
   "metadata": {
    "colab": {
     "base_uri": "https://localhost:8080/",
     "height": 142
    },
    "id": "l66gkuUbFF2I",
    "outputId": "65e37092-ec29-483a-a9b0-a05718a1e668"
   },
   "outputs": [
    {
     "data": {
      "application/vnd.google.colaboratory.intrinsic+json": {
       "type": "string"
      },
      "text/plain": [
       "' This grant provides funding for building highly scalable distributed algorithmsfor a new class of adaptive manufacturing enterprises using distributed agentarchitecture over the InternetThese algorithms will be used for reconfiguringwork-in-process inventory levels and production schedules to adapt to changingmarket demands and supply-chain conditionsMoreover, these algorithms and thenecessary information will be embedded in agents geographically distributedthroughout the enterprise The goal is to maintain responsiveness andeffectiveness to enable the next generation of scalable enterprises Scalability will be achieved through (1) distributed algorithms that arepredictable and computationally efficient; (2) distributed agent architecturesthat support growth in size and capability; and (3) distributed clusters thatprovide rapid access to information using cost effective technologies Analytical models will be developed to predict the emergent behavior of suchsystems and stability and convergence properties of their computations Thesemodels will be used for assessing computational complexity, communicationrequirements, and scalability of the algorithms Distributed agentarchitecture will be developed in which clusters of similar agents will beidentified based on task decomposition and task similarity An experimentalprototype using a cluster of commodity PCs will be used to benchmark thecomputational load, communication network requirements, and overall scalabilityof the algorithms If successful, the results of this research will lead toeffective integration of shop floor with enterprise software which is acritical issue in managing multiple enterprises effectively and optimally These research activities will involve active collaboration with severalindustry partners In the short-term, this work will provide a set of noveldistributed algorithms and a suitable distributed agent architecture In thelong-term, this work would provide mathematical and simulation models fordesigning the next generation of adaptive and reconfigurable enterprises byestablishing scientific and technological insights into their scalability'"
      ]
     },
     "execution_count": 47,
     "metadata": {},
     "output_type": "execute_result"
    }
   ],
   "source": [
    "# Abstract\n",
    "T5_results_df['composite_abstract'][index]"
   ]
  },
  {
   "cell_type": "markdown",
   "metadata": {
    "id": "Xo7JYmy-GdOa"
   },
   "source": [
    "### T5 Results"
   ]
  },
  {
   "cell_type": "code",
   "execution_count": null,
   "metadata": {
    "id": "XbU6hKc6FcgY"
   },
   "outputs": [],
   "source": [
    "eval_T5_1 = evaluate_model_T5(T5_results_df, 'composite_abstract', 5, 2, 16)\n",
    "eval_T5_2 = evaluate_model_T5(T5_results_df, 'composite_abstract', 5, 2, 32)\n",
    "eval_T5_4 = evaluate_model_T5(T5_results_df, 'composite_abstract', 2, 2, 32)\n",
    "eval_T5_5 = evaluate_model_T5(T5_results_df, 'composite_abstract', 10, 2, 32)\n",
    "eval_T5_6 = evaluate_model_T5(T5_results_df, 'composite_abstract', 6, 2, 32)\n",
    "eval_T5_7 = evaluate_model_T5(T5_results_df, 'composite_abstract', 3, 10, 32)\n",
    "results_T5 = pd.concat([eval_T5_1, eval_T5_2, eval_T5_4, eval_T5_5, eval_T5_6, eval_T5_7]).reset_index().drop('index', axis=1)\n",
    "results_T5"
   ]
  },
  {
   "cell_type": "code",
   "execution_count": null,
   "metadata": {
    "colab": {
     "base_uri": "https://localhost:8080/",
     "height": 237
    },
    "id": "IiXeGrELMo9Y",
    "outputId": "ac2093a9-9fc1-4aa3-abaf-bd9d4e214bb9"
   },
   "outputs": [
    {
     "data": {
      "text/html": [
       "\n",
       "  <div id=\"df-2ae019e7-e509-478c-affa-f0ff35bd66a6\">\n",
       "    <div class=\"colab-df-container\">\n",
       "      <div>\n",
       "<style scoped>\n",
       "    .dataframe tbody tr th:only-of-type {\n",
       "        vertical-align: middle;\n",
       "    }\n",
       "\n",
       "    .dataframe tbody tr th {\n",
       "        vertical-align: top;\n",
       "    }\n",
       "\n",
       "    .dataframe thead th {\n",
       "        text-align: right;\n",
       "    }\n",
       "</style>\n",
       "<table border=\"1\" class=\"dataframe\">\n",
       "  <thead>\n",
       "    <tr style=\"text-align: right;\">\n",
       "      <th></th>\n",
       "      <th>model_name</th>\n",
       "      <th>source_max_token_len</th>\n",
       "      <th>target_max_token_len</th>\n",
       "      <th>batch_size</th>\n",
       "      <th>max_epochs</th>\n",
       "      <th>precision</th>\n",
       "      <th>rouge_1</th>\n",
       "      <th>rouge_2</th>\n",
       "      <th>rouge_L</th>\n",
       "      <th>rouge_L_sum</th>\n",
       "    </tr>\n",
       "  </thead>\n",
       "  <tbody>\n",
       "    <tr>\n",
       "      <th>0</th>\n",
       "      <td>T5_Simple_Model</td>\n",
       "      <td>325</td>\n",
       "      <td>900</td>\n",
       "      <td>5</td>\n",
       "      <td>2</td>\n",
       "      <td>16</td>\n",
       "      <td>0.270529</td>\n",
       "      <td>0.115546</td>\n",
       "      <td>0.178785</td>\n",
       "      <td>0.178976</td>\n",
       "    </tr>\n",
       "    <tr>\n",
       "      <th>1</th>\n",
       "      <td>T5_Simple_Model</td>\n",
       "      <td>325</td>\n",
       "      <td>900</td>\n",
       "      <td>5</td>\n",
       "      <td>2</td>\n",
       "      <td>32</td>\n",
       "      <td>0.272564</td>\n",
       "      <td>0.124517</td>\n",
       "      <td>0.185725</td>\n",
       "      <td>0.185727</td>\n",
       "    </tr>\n",
       "    <tr>\n",
       "      <th>2</th>\n",
       "      <td>T5_Simple_Model</td>\n",
       "      <td>325</td>\n",
       "      <td>900</td>\n",
       "      <td>2</td>\n",
       "      <td>2</td>\n",
       "      <td>32</td>\n",
       "      <td>0.224578</td>\n",
       "      <td>0.114472</td>\n",
       "      <td>0.164401</td>\n",
       "      <td>0.164905</td>\n",
       "    </tr>\n",
       "    <tr>\n",
       "      <th>3</th>\n",
       "      <td>T5_Simple_Model</td>\n",
       "      <td>325</td>\n",
       "      <td>900</td>\n",
       "      <td>10</td>\n",
       "      <td>2</td>\n",
       "      <td>32</td>\n",
       "      <td>0.308240</td>\n",
       "      <td>0.132890</td>\n",
       "      <td>0.197229</td>\n",
       "      <td>0.197588</td>\n",
       "    </tr>\n",
       "    <tr>\n",
       "      <th>4</th>\n",
       "      <td>T5_Simple_Model</td>\n",
       "      <td>325</td>\n",
       "      <td>900</td>\n",
       "      <td>6</td>\n",
       "      <td>2</td>\n",
       "      <td>32</td>\n",
       "      <td>0.295845</td>\n",
       "      <td>0.143550</td>\n",
       "      <td>0.202287</td>\n",
       "      <td>0.202286</td>\n",
       "    </tr>\n",
       "    <tr>\n",
       "      <th>5</th>\n",
       "      <td>T5_Simple_Model</td>\n",
       "      <td>325</td>\n",
       "      <td>900</td>\n",
       "      <td>3</td>\n",
       "      <td>10</td>\n",
       "      <td>32</td>\n",
       "      <td>0.243010</td>\n",
       "      <td>0.106074</td>\n",
       "      <td>0.170603</td>\n",
       "      <td>0.170661</td>\n",
       "    </tr>\n",
       "  </tbody>\n",
       "</table>\n",
       "</div>\n",
       "      <button class=\"colab-df-convert\" onclick=\"convertToInteractive('df-2ae019e7-e509-478c-affa-f0ff35bd66a6')\"\n",
       "              title=\"Convert this dataframe to an interactive table.\"\n",
       "              style=\"display:none;\">\n",
       "        \n",
       "  <svg xmlns=\"http://www.w3.org/2000/svg\" height=\"24px\"viewBox=\"0 0 24 24\"\n",
       "       width=\"24px\">\n",
       "    <path d=\"M0 0h24v24H0V0z\" fill=\"none\"/>\n",
       "    <path d=\"M18.56 5.44l.94 2.06.94-2.06 2.06-.94-2.06-.94-.94-2.06-.94 2.06-2.06.94zm-11 1L8.5 8.5l.94-2.06 2.06-.94-2.06-.94L8.5 2.5l-.94 2.06-2.06.94zm10 10l.94 2.06.94-2.06 2.06-.94-2.06-.94-.94-2.06-.94 2.06-2.06.94z\"/><path d=\"M17.41 7.96l-1.37-1.37c-.4-.4-.92-.59-1.43-.59-.52 0-1.04.2-1.43.59L10.3 9.45l-7.72 7.72c-.78.78-.78 2.05 0 2.83L4 21.41c.39.39.9.59 1.41.59.51 0 1.02-.2 1.41-.59l7.78-7.78 2.81-2.81c.8-.78.8-2.07 0-2.86zM5.41 20L4 18.59l7.72-7.72 1.47 1.35L5.41 20z\"/>\n",
       "  </svg>\n",
       "      </button>\n",
       "      \n",
       "  <style>\n",
       "    .colab-df-container {\n",
       "      display:flex;\n",
       "      flex-wrap:wrap;\n",
       "      gap: 12px;\n",
       "    }\n",
       "\n",
       "    .colab-df-convert {\n",
       "      background-color: #E8F0FE;\n",
       "      border: none;\n",
       "      border-radius: 50%;\n",
       "      cursor: pointer;\n",
       "      display: none;\n",
       "      fill: #1967D2;\n",
       "      height: 32px;\n",
       "      padding: 0 0 0 0;\n",
       "      width: 32px;\n",
       "    }\n",
       "\n",
       "    .colab-df-convert:hover {\n",
       "      background-color: #E2EBFA;\n",
       "      box-shadow: 0px 1px 2px rgba(60, 64, 67, 0.3), 0px 1px 3px 1px rgba(60, 64, 67, 0.15);\n",
       "      fill: #174EA6;\n",
       "    }\n",
       "\n",
       "    [theme=dark] .colab-df-convert {\n",
       "      background-color: #3B4455;\n",
       "      fill: #D2E3FC;\n",
       "    }\n",
       "\n",
       "    [theme=dark] .colab-df-convert:hover {\n",
       "      background-color: #434B5C;\n",
       "      box-shadow: 0px 1px 3px 1px rgba(0, 0, 0, 0.15);\n",
       "      filter: drop-shadow(0px 1px 2px rgba(0, 0, 0, 0.3));\n",
       "      fill: #FFFFFF;\n",
       "    }\n",
       "  </style>\n",
       "\n",
       "      <script>\n",
       "        const buttonEl =\n",
       "          document.querySelector('#df-2ae019e7-e509-478c-affa-f0ff35bd66a6 button.colab-df-convert');\n",
       "        buttonEl.style.display =\n",
       "          google.colab.kernel.accessAllowed ? 'block' : 'none';\n",
       "\n",
       "        async function convertToInteractive(key) {\n",
       "          const element = document.querySelector('#df-2ae019e7-e509-478c-affa-f0ff35bd66a6');\n",
       "          const dataTable =\n",
       "            await google.colab.kernel.invokeFunction('convertToInteractive',\n",
       "                                                     [key], {});\n",
       "          if (!dataTable) return;\n",
       "\n",
       "          const docLinkHtml = 'Like what you see? Visit the ' +\n",
       "            '<a target=\"_blank\" href=https://colab.research.google.com/notebooks/data_table.ipynb>data table notebook</a>'\n",
       "            + ' to learn more about interactive tables.';\n",
       "          element.innerHTML = '';\n",
       "          dataTable['output_type'] = 'display_data';\n",
       "          await google.colab.output.renderOutput(dataTable, element);\n",
       "          const docLink = document.createElement('div');\n",
       "          docLink.innerHTML = docLinkHtml;\n",
       "          element.appendChild(docLink);\n",
       "        }\n",
       "      </script>\n",
       "    </div>\n",
       "  </div>\n",
       "  "
      ],
      "text/plain": [
       "        model_name  source_max_token_len  target_max_token_len  batch_size  \\\n",
       "0  T5_Simple_Model                   325                   900           5   \n",
       "1  T5_Simple_Model                   325                   900           5   \n",
       "2  T5_Simple_Model                   325                   900           2   \n",
       "3  T5_Simple_Model                   325                   900          10   \n",
       "4  T5_Simple_Model                   325                   900           6   \n",
       "5  T5_Simple_Model                   325                   900           3   \n",
       "\n",
       "   max_epochs  precision   rouge_1   rouge_2   rouge_L  rouge_L_sum  \n",
       "0           2         16  0.270529  0.115546  0.178785     0.178976  \n",
       "1           2         32  0.272564  0.124517  0.185725     0.185727  \n",
       "2           2         32  0.224578  0.114472  0.164401     0.164905  \n",
       "3           2         32  0.308240  0.132890  0.197229     0.197588  \n",
       "4           2         32  0.295845  0.143550  0.202287     0.202286  \n",
       "5          10         32  0.243010  0.106074  0.170603     0.170661  "
      ]
     },
     "execution_count": 82,
     "metadata": {},
     "output_type": "execute_result"
    }
   ],
   "source": [
    "results_T5"
   ]
  },
  {
   "cell_type": "markdown",
   "metadata": {
    "id": "T1YhcqlT2QC_"
   },
   "source": [
    "# GPT-2 Results"
   ]
  },
  {
   "cell_type": "code",
   "execution_count": null,
   "metadata": {
    "id": "tMJcJdc12SU9"
   },
   "outputs": [],
   "source": []
  }
 ],
 "metadata": {
  "accelerator": "GPU",
  "colab": {
   "collapsed_sections": [
    "3WmP9ml6UlUS"
   ],
   "machine_shape": "hm",
   "provenance": []
  },
  "gpuClass": "standard",
  "kernelspec": {
   "display_name": "Python 3 (ipykernel)",
   "language": "python",
   "name": "python3"
  },
  "language_info": {
   "codemirror_mode": {
    "name": "ipython",
    "version": 3
   },
   "file_extension": ".py",
   "mimetype": "text/x-python",
   "name": "python",
   "nbconvert_exporter": "python",
   "pygments_lexer": "ipython3",
   "version": "3.9.12"
  },
  "widgets": {
   "application/vnd.jupyter.widget-state+json": {
    "03f98ab4749b49c2b55a05841717e71a": {
     "model_module": "@jupyter-widgets/base",
     "model_module_version": "1.2.0",
     "model_name": "LayoutModel",
     "state": {
      "_model_module": "@jupyter-widgets/base",
      "_model_module_version": "1.2.0",
      "_model_name": "LayoutModel",
      "_view_count": null,
      "_view_module": "@jupyter-widgets/base",
      "_view_module_version": "1.2.0",
      "_view_name": "LayoutView",
      "align_content": null,
      "align_items": null,
      "align_self": null,
      "border": null,
      "bottom": null,
      "display": null,
      "flex": null,
      "flex_flow": null,
      "grid_area": null,
      "grid_auto_columns": null,
      "grid_auto_flow": null,
      "grid_auto_rows": null,
      "grid_column": null,
      "grid_gap": null,
      "grid_row": null,
      "grid_template_areas": null,
      "grid_template_columns": null,
      "grid_template_rows": null,
      "height": null,
      "justify_content": null,
      "justify_items": null,
      "left": null,
      "margin": null,
      "max_height": null,
      "max_width": null,
      "min_height": null,
      "min_width": null,
      "object_fit": null,
      "object_position": null,
      "order": null,
      "overflow": null,
      "overflow_x": null,
      "overflow_y": null,
      "padding": null,
      "right": null,
      "top": null,
      "visibility": null,
      "width": null
     }
    },
    "1da8e66aa54741bba384fc1d04b6b7f5": {
     "model_module": "@jupyter-widgets/controls",
     "model_module_version": "1.5.0",
     "model_name": "HBoxModel",
     "state": {
      "_dom_classes": [],
      "_model_module": "@jupyter-widgets/controls",
      "_model_module_version": "1.5.0",
      "_model_name": "HBoxModel",
      "_view_count": null,
      "_view_module": "@jupyter-widgets/controls",
      "_view_module_version": "1.5.0",
      "_view_name": "HBoxView",
      "box_style": "",
      "children": [
       "IPY_MODEL_2ec5946f3a3d4e888bd2d64f9e8ff6d9",
       "IPY_MODEL_e711e10afdf24f40a14c893a2729824e",
       "IPY_MODEL_43d88e1befd64a40a29291d98428e3fc"
      ],
      "layout": "IPY_MODEL_a6924db6992242efa646a7f5872b4dbf"
     }
    },
    "2ec5946f3a3d4e888bd2d64f9e8ff6d9": {
     "model_module": "@jupyter-widgets/controls",
     "model_module_version": "1.5.0",
     "model_name": "HTMLModel",
     "state": {
      "_dom_classes": [],
      "_model_module": "@jupyter-widgets/controls",
      "_model_module_version": "1.5.0",
      "_model_name": "HTMLModel",
      "_view_count": null,
      "_view_module": "@jupyter-widgets/controls",
      "_view_module_version": "1.5.0",
      "_view_name": "HTMLView",
      "description": "",
      "description_tooltip": null,
      "layout": "IPY_MODEL_a58aac306b62455eb454ccea6cfc9af5",
      "placeholder": "​",
      "style": "IPY_MODEL_cc53278548b24a0083ab79667e15f6cf",
      "value": "Downloading builder script: 100%"
     }
    },
    "43d88e1befd64a40a29291d98428e3fc": {
     "model_module": "@jupyter-widgets/controls",
     "model_module_version": "1.5.0",
     "model_name": "HTMLModel",
     "state": {
      "_dom_classes": [],
      "_model_module": "@jupyter-widgets/controls",
      "_model_module_version": "1.5.0",
      "_model_name": "HTMLModel",
      "_view_count": null,
      "_view_module": "@jupyter-widgets/controls",
      "_view_module_version": "1.5.0",
      "_view_name": "HTMLView",
      "description": "",
      "description_tooltip": null,
      "layout": "IPY_MODEL_03f98ab4749b49c2b55a05841717e71a",
      "placeholder": "​",
      "style": "IPY_MODEL_dbbaadd5c39e43838f126ab6c8c64795",
      "value": " 6.27k/6.27k [00:00&lt;00:00, 228kB/s]"
     }
    },
    "9aeeb0fe75784707b3b22f1020e396ae": {
     "model_module": "@jupyter-widgets/controls",
     "model_module_version": "1.5.0",
     "model_name": "ProgressStyleModel",
     "state": {
      "_model_module": "@jupyter-widgets/controls",
      "_model_module_version": "1.5.0",
      "_model_name": "ProgressStyleModel",
      "_view_count": null,
      "_view_module": "@jupyter-widgets/base",
      "_view_module_version": "1.2.0",
      "_view_name": "StyleView",
      "bar_color": null,
      "description_width": ""
     }
    },
    "a58aac306b62455eb454ccea6cfc9af5": {
     "model_module": "@jupyter-widgets/base",
     "model_module_version": "1.2.0",
     "model_name": "LayoutModel",
     "state": {
      "_model_module": "@jupyter-widgets/base",
      "_model_module_version": "1.2.0",
      "_model_name": "LayoutModel",
      "_view_count": null,
      "_view_module": "@jupyter-widgets/base",
      "_view_module_version": "1.2.0",
      "_view_name": "LayoutView",
      "align_content": null,
      "align_items": null,
      "align_self": null,
      "border": null,
      "bottom": null,
      "display": null,
      "flex": null,
      "flex_flow": null,
      "grid_area": null,
      "grid_auto_columns": null,
      "grid_auto_flow": null,
      "grid_auto_rows": null,
      "grid_column": null,
      "grid_gap": null,
      "grid_row": null,
      "grid_template_areas": null,
      "grid_template_columns": null,
      "grid_template_rows": null,
      "height": null,
      "justify_content": null,
      "justify_items": null,
      "left": null,
      "margin": null,
      "max_height": null,
      "max_width": null,
      "min_height": null,
      "min_width": null,
      "object_fit": null,
      "object_position": null,
      "order": null,
      "overflow": null,
      "overflow_x": null,
      "overflow_y": null,
      "padding": null,
      "right": null,
      "top": null,
      "visibility": null,
      "width": null
     }
    },
    "a6924db6992242efa646a7f5872b4dbf": {
     "model_module": "@jupyter-widgets/base",
     "model_module_version": "1.2.0",
     "model_name": "LayoutModel",
     "state": {
      "_model_module": "@jupyter-widgets/base",
      "_model_module_version": "1.2.0",
      "_model_name": "LayoutModel",
      "_view_count": null,
      "_view_module": "@jupyter-widgets/base",
      "_view_module_version": "1.2.0",
      "_view_name": "LayoutView",
      "align_content": null,
      "align_items": null,
      "align_self": null,
      "border": null,
      "bottom": null,
      "display": null,
      "flex": null,
      "flex_flow": null,
      "grid_area": null,
      "grid_auto_columns": null,
      "grid_auto_flow": null,
      "grid_auto_rows": null,
      "grid_column": null,
      "grid_gap": null,
      "grid_row": null,
      "grid_template_areas": null,
      "grid_template_columns": null,
      "grid_template_rows": null,
      "height": null,
      "justify_content": null,
      "justify_items": null,
      "left": null,
      "margin": null,
      "max_height": null,
      "max_width": null,
      "min_height": null,
      "min_width": null,
      "object_fit": null,
      "object_position": null,
      "order": null,
      "overflow": null,
      "overflow_x": null,
      "overflow_y": null,
      "padding": null,
      "right": null,
      "top": null,
      "visibility": null,
      "width": null
     }
    },
    "ae5b91f5118a4123af2e81b5d6bef166": {
     "model_module": "@jupyter-widgets/base",
     "model_module_version": "1.2.0",
     "model_name": "LayoutModel",
     "state": {
      "_model_module": "@jupyter-widgets/base",
      "_model_module_version": "1.2.0",
      "_model_name": "LayoutModel",
      "_view_count": null,
      "_view_module": "@jupyter-widgets/base",
      "_view_module_version": "1.2.0",
      "_view_name": "LayoutView",
      "align_content": null,
      "align_items": null,
      "align_self": null,
      "border": null,
      "bottom": null,
      "display": null,
      "flex": null,
      "flex_flow": null,
      "grid_area": null,
      "grid_auto_columns": null,
      "grid_auto_flow": null,
      "grid_auto_rows": null,
      "grid_column": null,
      "grid_gap": null,
      "grid_row": null,
      "grid_template_areas": null,
      "grid_template_columns": null,
      "grid_template_rows": null,
      "height": null,
      "justify_content": null,
      "justify_items": null,
      "left": null,
      "margin": null,
      "max_height": null,
      "max_width": null,
      "min_height": null,
      "min_width": null,
      "object_fit": null,
      "object_position": null,
      "order": null,
      "overflow": null,
      "overflow_x": null,
      "overflow_y": null,
      "padding": null,
      "right": null,
      "top": null,
      "visibility": null,
      "width": null
     }
    },
    "cc53278548b24a0083ab79667e15f6cf": {
     "model_module": "@jupyter-widgets/controls",
     "model_module_version": "1.5.0",
     "model_name": "DescriptionStyleModel",
     "state": {
      "_model_module": "@jupyter-widgets/controls",
      "_model_module_version": "1.5.0",
      "_model_name": "DescriptionStyleModel",
      "_view_count": null,
      "_view_module": "@jupyter-widgets/base",
      "_view_module_version": "1.2.0",
      "_view_name": "StyleView",
      "description_width": ""
     }
    },
    "dbbaadd5c39e43838f126ab6c8c64795": {
     "model_module": "@jupyter-widgets/controls",
     "model_module_version": "1.5.0",
     "model_name": "DescriptionStyleModel",
     "state": {
      "_model_module": "@jupyter-widgets/controls",
      "_model_module_version": "1.5.0",
      "_model_name": "DescriptionStyleModel",
      "_view_count": null,
      "_view_module": "@jupyter-widgets/base",
      "_view_module_version": "1.2.0",
      "_view_name": "StyleView",
      "description_width": ""
     }
    },
    "e711e10afdf24f40a14c893a2729824e": {
     "model_module": "@jupyter-widgets/controls",
     "model_module_version": "1.5.0",
     "model_name": "FloatProgressModel",
     "state": {
      "_dom_classes": [],
      "_model_module": "@jupyter-widgets/controls",
      "_model_module_version": "1.5.0",
      "_model_name": "FloatProgressModel",
      "_view_count": null,
      "_view_module": "@jupyter-widgets/controls",
      "_view_module_version": "1.5.0",
      "_view_name": "ProgressView",
      "bar_style": "success",
      "description": "",
      "description_tooltip": null,
      "layout": "IPY_MODEL_ae5b91f5118a4123af2e81b5d6bef166",
      "max": 6270,
      "min": 0,
      "orientation": "horizontal",
      "style": "IPY_MODEL_9aeeb0fe75784707b3b22f1020e396ae",
      "value": 6270
     }
    }
   }
  }
 },
 "nbformat": 4,
 "nbformat_minor": 1
}
